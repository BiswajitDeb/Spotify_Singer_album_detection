{
 "cells": [
  {
   "cell_type": "code",
   "execution_count": 90,
   "metadata": {},
   "outputs": [],
   "source": [
    "import numpy as np\n",
    "import pandas as pd"
   ]
  },
  {
   "cell_type": "code",
   "execution_count": 91,
   "metadata": {},
   "outputs": [
    {
     "data": {
      "text/html": [
       "<div>\n",
       "<style scoped>\n",
       "    .dataframe tbody tr th:only-of-type {\n",
       "        vertical-align: middle;\n",
       "    }\n",
       "\n",
       "    .dataframe tbody tr th {\n",
       "        vertical-align: top;\n",
       "    }\n",
       "\n",
       "    .dataframe thead th {\n",
       "        text-align: right;\n",
       "    }\n",
       "</style>\n",
       "<table border=\"1\" class=\"dataframe\">\n",
       "  <thead>\n",
       "    <tr style=\"text-align: right;\">\n",
       "      <th></th>\n",
       "      <th>artist</th>\n",
       "      <th>song</th>\n",
       "      <th>text</th>\n",
       "    </tr>\n",
       "  </thead>\n",
       "  <tbody>\n",
       "    <tr>\n",
       "      <th>0</th>\n",
       "      <td>ABBA</td>\n",
       "      <td>Ahe's My Kind Of Girl</td>\n",
       "      <td>Look at her face, it's a wonderful face  \\r\\nA...</td>\n",
       "    </tr>\n",
       "    <tr>\n",
       "      <th>1</th>\n",
       "      <td>ABBA</td>\n",
       "      <td>Andante, Andante</td>\n",
       "      <td>Take it easy with me, please  \\r\\nTouch me gen...</td>\n",
       "    </tr>\n",
       "    <tr>\n",
       "      <th>2</th>\n",
       "      <td>ABBA</td>\n",
       "      <td>As Good As New</td>\n",
       "      <td>I'll never know why I had to go  \\r\\nWhy I had...</td>\n",
       "    </tr>\n",
       "    <tr>\n",
       "      <th>3</th>\n",
       "      <td>ABBA</td>\n",
       "      <td>Bang</td>\n",
       "      <td>Making somebody happy is a question of give an...</td>\n",
       "    </tr>\n",
       "    <tr>\n",
       "      <th>4</th>\n",
       "      <td>ABBA</td>\n",
       "      <td>Bang-A-Boomerang</td>\n",
       "      <td>Making somebody happy is a question of give an...</td>\n",
       "    </tr>\n",
       "  </tbody>\n",
       "</table>\n",
       "</div>"
      ],
      "text/plain": [
       "  artist                   song  \\\n",
       "0   ABBA  Ahe's My Kind Of Girl   \n",
       "1   ABBA       Andante, Andante   \n",
       "2   ABBA         As Good As New   \n",
       "3   ABBA                   Bang   \n",
       "4   ABBA       Bang-A-Boomerang   \n",
       "\n",
       "                                                text  \n",
       "0  Look at her face, it's a wonderful face  \\r\\nA...  \n",
       "1  Take it easy with me, please  \\r\\nTouch me gen...  \n",
       "2  I'll never know why I had to go  \\r\\nWhy I had...  \n",
       "3  Making somebody happy is a question of give an...  \n",
       "4  Making somebody happy is a question of give an...  "
      ]
     },
     "execution_count": 91,
     "metadata": {},
     "output_type": "execute_result"
    }
   ],
   "source": [
    "df=pd.read_csv(\"Spotify Million Song Dataset_exported.csv\")\n",
    "df=df.drop(['link'],axis=1)\n",
    "df.head()"
   ]
  },
  {
   "cell_type": "code",
   "execution_count": 92,
   "metadata": {},
   "outputs": [],
   "source": [
    "df_new = pd.DataFrame(columns=['artist', 'song', 'text'])"
   ]
  },
  {
   "cell_type": "code",
   "execution_count": 93,
   "metadata": {},
   "outputs": [],
   "source": [
    "indent = [\"\\n\", \"\\r\", \"\\t\"]\n",
    "def remove_indents(text, indent):\n",
    "    for elements in indent:\n",
    "        text = text.replace(elements, '')\n",
    "    return text\n",
    "\n",
    "df['text'] = df['text'].apply(lambda elements: remove_indents(elements, indent))"
   ]
  },
  {
   "cell_type": "code",
   "execution_count": 94,
   "metadata": {},
   "outputs": [],
   "source": [
    "df['text'] = df['text'].str.lower()\n"
   ]
  },
  {
   "cell_type": "code",
   "execution_count": 95,
   "metadata": {},
   "outputs": [],
   "source": [
    "import re\n",
    "def remove_words_with_apostrophes(input_string):\n",
    "    pattern = r'\\b\\w+\\'\\w+\\b'\n",
    "    result = re.sub(pattern, '', input_string)\n",
    "    return result\n",
    "\n",
    "df['text'] = df['text'].apply(lambda elements: remove_words_with_apostrophes(elements))"
   ]
  },
  {
   "cell_type": "code",
   "execution_count": 96,
   "metadata": {},
   "outputs": [],
   "source": [
    "import string\n",
    "def remove_punctuation(input_string):\n",
    "    translation_table = str.maketrans('', '', string.punctuation)\n",
    "    result = input_string.translate(translation_table)\n",
    "    return result\n",
    "\n",
    "df['text'] = df['text'].apply(lambda elements: remove_punctuation(elements))"
   ]
  },
  {
   "cell_type": "code",
   "execution_count": 97,
   "metadata": {},
   "outputs": [
    {
     "data": {
      "text/plain": [
       "694"
      ]
     },
     "execution_count": 97,
     "metadata": {},
     "output_type": "execute_result"
    }
   ],
   "source": [
    "len(df['text'][0])"
   ]
  },
  {
   "cell_type": "code",
   "execution_count": 98,
   "metadata": {},
   "outputs": [
    {
     "data": {
      "text/html": [
       "<div>\n",
       "<style scoped>\n",
       "    .dataframe tbody tr th:only-of-type {\n",
       "        vertical-align: middle;\n",
       "    }\n",
       "\n",
       "    .dataframe tbody tr th {\n",
       "        vertical-align: top;\n",
       "    }\n",
       "\n",
       "    .dataframe thead th {\n",
       "        text-align: right;\n",
       "    }\n",
       "</style>\n",
       "<table border=\"1\" class=\"dataframe\">\n",
       "  <thead>\n",
       "    <tr style=\"text-align: right;\">\n",
       "      <th></th>\n",
       "      <th>artist</th>\n",
       "      <th>song</th>\n",
       "      <th>text</th>\n",
       "    </tr>\n",
       "  </thead>\n",
       "  <tbody>\n",
       "    <tr>\n",
       "      <th>0</th>\n",
       "      <td>ABBA</td>\n",
       "      <td>Ahe's My Kind Of Girl</td>\n",
       "      <td>look at her face a wonderful face and it means...</td>\n",
       "    </tr>\n",
       "    <tr>\n",
       "      <th>1</th>\n",
       "      <td>ABBA</td>\n",
       "      <td>Ahe's My Kind Of Girl</td>\n",
       "      <td>look at the way that she smiles when she sees ...</td>\n",
       "    </tr>\n",
       "    <tr>\n",
       "      <th>2</th>\n",
       "      <td>ABBA</td>\n",
       "      <td>Ahe's My Kind Of Girl</td>\n",
       "      <td>one fellow be just my kind of girl she makes m...</td>\n",
       "    </tr>\n",
       "    <tr>\n",
       "      <th>3</th>\n",
       "      <td>ABBA</td>\n",
       "      <td>Ahe's My Kind Of Girl</td>\n",
       "      <td>could ever believe that she could be mine just...</td>\n",
       "    </tr>\n",
       "    <tr>\n",
       "      <th>4</th>\n",
       "      <td>ABBA</td>\n",
       "      <td>Ahe's My Kind Of Girl</td>\n",
       "      <td>her blue and if she ever leaves me what could ...</td>\n",
       "    </tr>\n",
       "    <tr>\n",
       "      <th>...</th>\n",
       "      <td>...</td>\n",
       "      <td>...</td>\n",
       "      <td>...</td>\n",
       "    </tr>\n",
       "    <tr>\n",
       "      <th>628927</th>\n",
       "      <td>Zwan</td>\n",
       "      <td>Heartsong</td>\n",
       "      <td>the same words to say the same things how can ...</td>\n",
       "    </tr>\n",
       "    <tr>\n",
       "      <th>628928</th>\n",
       "      <td>Zwan</td>\n",
       "      <td>Heartsong</td>\n",
       "      <td>i need you just be sure no more no less let lo...</td>\n",
       "    </tr>\n",
       "    <tr>\n",
       "      <th>628929</th>\n",
       "      <td>Zwan</td>\n",
       "      <td>Heartsong</td>\n",
       "      <td>to you what you must do how can you say that i...</td>\n",
       "    </tr>\n",
       "    <tr>\n",
       "      <th>628930</th>\n",
       "      <td>Zwan</td>\n",
       "      <td>Heartsong</td>\n",
       "      <td>you just be sure no more no less let love conf...</td>\n",
       "    </tr>\n",
       "    <tr>\n",
       "      <th>628931</th>\n",
       "      <td>Zwan</td>\n",
       "      <td>Heartsong</td>\n",
       "      <td>no less</td>\n",
       "    </tr>\n",
       "  </tbody>\n",
       "</table>\n",
       "<p>628932 rows × 3 columns</p>\n",
       "</div>"
      ],
      "text/plain": [
       "       artist                   song  \\\n",
       "0        ABBA  Ahe's My Kind Of Girl   \n",
       "1        ABBA  Ahe's My Kind Of Girl   \n",
       "2        ABBA  Ahe's My Kind Of Girl   \n",
       "3        ABBA  Ahe's My Kind Of Girl   \n",
       "4        ABBA  Ahe's My Kind Of Girl   \n",
       "...       ...                    ...   \n",
       "628927   Zwan              Heartsong   \n",
       "628928   Zwan              Heartsong   \n",
       "628929   Zwan              Heartsong   \n",
       "628930   Zwan              Heartsong   \n",
       "628931   Zwan              Heartsong   \n",
       "\n",
       "                                                     text  \n",
       "0       look at her face a wonderful face and it means...  \n",
       "1       look at the way that she smiles when she sees ...  \n",
       "2       one fellow be just my kind of girl she makes m...  \n",
       "3       could ever believe that she could be mine just...  \n",
       "4       her blue and if she ever leaves me what could ...  \n",
       "...                                                   ...  \n",
       "628927  the same words to say the same things how can ...  \n",
       "628928  i need you just be sure no more no less let lo...  \n",
       "628929  to you what you must do how can you say that i...  \n",
       "628930  you just be sure no more no less let love conf...  \n",
       "628931                                            no less  \n",
       "\n",
       "[628932 rows x 3 columns]"
      ]
     },
     "execution_count": 98,
     "metadata": {},
     "output_type": "execute_result"
    }
   ],
   "source": [
    "df_new = pd.DataFrame(columns=['artist', 'song', 'text'])\n",
    "\n",
    "# Create an empty list to store dictionaries\n",
    "'''def split_text(text):\n",
    "    length = len(text)\n",
    "    split_length = length // 5\n",
    "    return [text[i:i+split_length] for i in range(0, length, split_length)]'''\n",
    "\n",
    "def split_text(text):\n",
    "    words = text.split()\n",
    "    num_words = len(words)\n",
    "    split_length = num_words // 10\n",
    "    return [' '.join(words[i:i+split_length]) for i in range(0, num_words, split_length)]\n",
    "\n",
    "# Apply the function to the 'text' column and create a new dataframe\n",
    "df_new = df.copy()\n",
    "df_new['text'] = df_new['text'].apply(split_text)\n",
    "\n",
    "# Explode the list of substrings into separate rows\n",
    "df_new = df_new.explode('text')\n",
    "\n",
    "# Reset index\n",
    "df_new.reset_index(drop=True, inplace=True)\n",
    "\n",
    "df_new\n"
   ]
  },
  {
   "cell_type": "code",
   "execution_count": 99,
   "metadata": {},
   "outputs": [
    {
     "data": {
      "text/plain": [
       "\"from nltk.corpus import stopwords\\nfrom nltk.stem import PorterStemmer\\n\\nstop_words = set(stopwords.words('english'))\\nps = PorterStemmer()\\nlyrics = df_new['text'].apply(lambda x: ' '.join([ps.stem(word) for word in re.findall(r'\\x08\\\\w+\\x08', x.lower()) if word not in stop_words]))\""
      ]
     },
     "execution_count": 99,
     "metadata": {},
     "output_type": "execute_result"
    }
   ],
   "source": [
    "'''from nltk.corpus import stopwords\n",
    "from nltk.stem import PorterStemmer\n",
    "\n",
    "stop_words = set(stopwords.words('english'))\n",
    "ps = PorterStemmer()\n",
    "lyrics = df_new['text'].apply(lambda x: ' '.join([ps.stem(word) for word in re.findall(r'\\b\\w+\\b', x.lower()) if word not in stop_words]))'''"
   ]
  },
  {
   "cell_type": "code",
   "execution_count": 100,
   "metadata": {},
   "outputs": [],
   "source": [
    "# Vectorization using TF-IDF\n",
    "from sklearn.feature_extraction.text import TfidfVectorizer\n",
    "\n",
    "vectorizer = TfidfVectorizer()\n",
    "# X = vectorizer.fit_transform(lyrics)\n",
    "X = vectorizer.fit_transform(df_new['text'])"
   ]
  },
  {
   "cell_type": "code",
   "execution_count": 101,
   "metadata": {},
   "outputs": [
    {
     "data": {
      "text/plain": [
       "'look at her face  a wonderful face  and it means something special to me  look at the way that she smiles when she sees me  how lucky can one fellow be     just my kind of girl she makes me feel fine  who could ever believe that she could be mine   just my kind of girl without her  blue  and if she ever leaves me what could i do what could i do    and when we go for a walk in the park  and she holds me and squeezes my hand   go on walking for hours and talking  about all the things that we plan     just my kind of girl she makes me feel fine  who could ever believe that she could be mine   just my kind of girl without her  blue  and if she ever leaves me what could i do what could i do'"
      ]
     },
     "execution_count": 101,
     "metadata": {},
     "output_type": "execute_result"
    }
   ],
   "source": [
    "df['text'][0]"
   ]
  },
  {
   "cell_type": "code",
   "execution_count": 102,
   "metadata": {},
   "outputs": [],
   "source": [
    "# Input snippet\n",
    "input_snippet = \"look at her face  a wonderful face\"\n",
    "#input_snippet = \"i can hear how you work practising hard  playing night and day wooh  and it sounds better now yes you improve  everytime you play wooh  but  bad   so sad  and  only smiling  when you play your violin    dumb dumb diddle to be your fiddle  to be so near you and not just hear you  dumb dumb diddle to be your fiddle  i think then maybe  see me baby   be mine  and  be together all the time  wish i was dumb dumb diddle your darling fiddle    but i think you  know that i exist   the quiet kind wooh  \""
   ]
  },
  {
   "cell_type": "code",
   "execution_count": 103,
   "metadata": {},
   "outputs": [],
   "source": [
    "input_snippet=remove_words_with_apostrophes(input_snippet)\n",
    "input_snippet=remove_punctuation(input_snippet)"
   ]
  },
  {
   "cell_type": "code",
   "execution_count": 104,
   "metadata": {},
   "outputs": [],
   "source": [
    "# Preprocess input snippet\n",
    "\n",
    "#input_snippet = ' '.join([ps.stem(word) for word in re.findall(r'\\b\\w+\\b', input_snippet.lower()) if word not in stop_words])"
   ]
  },
  {
   "cell_type": "code",
   "execution_count": 105,
   "metadata": {},
   "outputs": [],
   "source": [
    "# Vectorize input snippet\n",
    "input_snippet_vector = vectorizer.transform([input_snippet])"
   ]
  },
  {
   "cell_type": "code",
   "execution_count": 106,
   "metadata": {},
   "outputs": [],
   "source": [
    "# Calculate similarity\n",
    "from sklearn.metrics.pairwise import cosine_similarity\n",
    "similarity_scores = cosine_similarity(X, input_snippet_vector)"
   ]
  },
  {
   "cell_type": "code",
   "execution_count": 107,
   "metadata": {},
   "outputs": [],
   "source": [
    "# Identify the unique song\n",
    "unique_song_index = similarity_scores.argmax()\n",
    "unique_song = df_new.iloc[unique_song_index]"
   ]
  },
  {
   "cell_type": "code",
   "execution_count": 108,
   "metadata": {},
   "outputs": [
    {
     "name": "stdout",
     "output_type": "stream",
     "text": [
      "Artist: ABBA\n",
      "Song: Ahe's My Kind Of Girl\n"
     ]
    }
   ],
   "source": [
    "print(f'Artist: {unique_song[\"artist\"]}')\n",
    "print(f'Song: {unique_song[\"song\"]}')"
   ]
  }
 ],
 "metadata": {
  "kernelspec": {
   "display_name": "Python 3",
   "language": "python",
   "name": "python3"
  },
  "language_info": {
   "codemirror_mode": {
    "name": "ipython",
    "version": 3
   },
   "file_extension": ".py",
   "mimetype": "text/x-python",
   "name": "python",
   "nbconvert_exporter": "python",
   "pygments_lexer": "ipython3",
   "version": "3.11.7"
  }
 },
 "nbformat": 4,
 "nbformat_minor": 2
}
