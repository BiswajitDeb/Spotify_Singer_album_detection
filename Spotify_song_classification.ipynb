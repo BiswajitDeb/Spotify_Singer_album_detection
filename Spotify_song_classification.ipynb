{
 "cells": [
  {
   "cell_type": "code",
   "execution_count": 1,
   "metadata": {},
   "outputs": [],
   "source": [
    "import pandas as pd\n",
    "import numpy as np"
   ]
  },
  {
   "cell_type": "code",
   "execution_count": 2,
   "metadata": {},
   "outputs": [
    {
     "data": {
      "text/html": [
       "<div>\n",
       "<style scoped>\n",
       "    .dataframe tbody tr th:only-of-type {\n",
       "        vertical-align: middle;\n",
       "    }\n",
       "\n",
       "    .dataframe tbody tr th {\n",
       "        vertical-align: top;\n",
       "    }\n",
       "\n",
       "    .dataframe thead th {\n",
       "        text-align: right;\n",
       "    }\n",
       "</style>\n",
       "<table border=\"1\" class=\"dataframe\">\n",
       "  <thead>\n",
       "    <tr style=\"text-align: right;\">\n",
       "      <th></th>\n",
       "      <th>artist</th>\n",
       "      <th>song</th>\n",
       "      <th>link</th>\n",
       "      <th>text</th>\n",
       "    </tr>\n",
       "  </thead>\n",
       "  <tbody>\n",
       "    <tr>\n",
       "      <th>0</th>\n",
       "      <td>ABBA</td>\n",
       "      <td>Ahe's My Kind Of Girl</td>\n",
       "      <td>/a/abba/ahes+my+kind+of+girl_20598417.html</td>\n",
       "      <td>Look at her face, it's a wonderful face  \\r\\nA...</td>\n",
       "    </tr>\n",
       "    <tr>\n",
       "      <th>1</th>\n",
       "      <td>ABBA</td>\n",
       "      <td>Andante, Andante</td>\n",
       "      <td>/a/abba/andante+andante_20002708.html</td>\n",
       "      <td>Take it easy with me, please  \\r\\nTouch me gen...</td>\n",
       "    </tr>\n",
       "    <tr>\n",
       "      <th>2</th>\n",
       "      <td>ABBA</td>\n",
       "      <td>As Good As New</td>\n",
       "      <td>/a/abba/as+good+as+new_20003033.html</td>\n",
       "      <td>I'll never know why I had to go  \\r\\nWhy I had...</td>\n",
       "    </tr>\n",
       "    <tr>\n",
       "      <th>3</th>\n",
       "      <td>ABBA</td>\n",
       "      <td>Bang</td>\n",
       "      <td>/a/abba/bang_20598415.html</td>\n",
       "      <td>Making somebody happy is a question of give an...</td>\n",
       "    </tr>\n",
       "    <tr>\n",
       "      <th>4</th>\n",
       "      <td>ABBA</td>\n",
       "      <td>Bang-A-Boomerang</td>\n",
       "      <td>/a/abba/bang+a+boomerang_20002668.html</td>\n",
       "      <td>Making somebody happy is a question of give an...</td>\n",
       "    </tr>\n",
       "  </tbody>\n",
       "</table>\n",
       "</div>"
      ],
      "text/plain": [
       "  artist                   song                                        link  \\\n",
       "0   ABBA  Ahe's My Kind Of Girl  /a/abba/ahes+my+kind+of+girl_20598417.html   \n",
       "1   ABBA       Andante, Andante       /a/abba/andante+andante_20002708.html   \n",
       "2   ABBA         As Good As New        /a/abba/as+good+as+new_20003033.html   \n",
       "3   ABBA                   Bang                  /a/abba/bang_20598415.html   \n",
       "4   ABBA       Bang-A-Boomerang      /a/abba/bang+a+boomerang_20002668.html   \n",
       "\n",
       "                                                text  \n",
       "0  Look at her face, it's a wonderful face  \\r\\nA...  \n",
       "1  Take it easy with me, please  \\r\\nTouch me gen...  \n",
       "2  I'll never know why I had to go  \\r\\nWhy I had...  \n",
       "3  Making somebody happy is a question of give an...  \n",
       "4  Making somebody happy is a question of give an...  "
      ]
     },
     "execution_count": 2,
     "metadata": {},
     "output_type": "execute_result"
    }
   ],
   "source": [
    "Input=pd.read_csv(\"Spotify Million Song Dataset_exported.csv\")\n",
    "Input.head()"
   ]
  },
  {
   "cell_type": "code",
   "execution_count": 3,
   "metadata": {},
   "outputs": [],
   "source": [
    "df=Input.drop(['link'],axis=1)"
   ]
  },
  {
   "cell_type": "code",
   "execution_count": 4,
   "metadata": {},
   "outputs": [
    {
     "data": {
      "text/html": [
       "<div>\n",
       "<style scoped>\n",
       "    .dataframe tbody tr th:only-of-type {\n",
       "        vertical-align: middle;\n",
       "    }\n",
       "\n",
       "    .dataframe tbody tr th {\n",
       "        vertical-align: top;\n",
       "    }\n",
       "\n",
       "    .dataframe thead th {\n",
       "        text-align: right;\n",
       "    }\n",
       "</style>\n",
       "<table border=\"1\" class=\"dataframe\">\n",
       "  <thead>\n",
       "    <tr style=\"text-align: right;\">\n",
       "      <th></th>\n",
       "      <th>artist</th>\n",
       "      <th>song</th>\n",
       "      <th>text</th>\n",
       "    </tr>\n",
       "  </thead>\n",
       "  <tbody>\n",
       "    <tr>\n",
       "      <th>0</th>\n",
       "      <td>ABBA</td>\n",
       "      <td>Ahe's My Kind Of Girl</td>\n",
       "      <td>Look at her face, it's a wonderful face  \\r\\nA...</td>\n",
       "    </tr>\n",
       "    <tr>\n",
       "      <th>1</th>\n",
       "      <td>ABBA</td>\n",
       "      <td>Andante, Andante</td>\n",
       "      <td>Take it easy with me, please  \\r\\nTouch me gen...</td>\n",
       "    </tr>\n",
       "    <tr>\n",
       "      <th>2</th>\n",
       "      <td>ABBA</td>\n",
       "      <td>As Good As New</td>\n",
       "      <td>I'll never know why I had to go  \\r\\nWhy I had...</td>\n",
       "    </tr>\n",
       "    <tr>\n",
       "      <th>3</th>\n",
       "      <td>ABBA</td>\n",
       "      <td>Bang</td>\n",
       "      <td>Making somebody happy is a question of give an...</td>\n",
       "    </tr>\n",
       "    <tr>\n",
       "      <th>4</th>\n",
       "      <td>ABBA</td>\n",
       "      <td>Bang-A-Boomerang</td>\n",
       "      <td>Making somebody happy is a question of give an...</td>\n",
       "    </tr>\n",
       "  </tbody>\n",
       "</table>\n",
       "</div>"
      ],
      "text/plain": [
       "  artist                   song  \\\n",
       "0   ABBA  Ahe's My Kind Of Girl   \n",
       "1   ABBA       Andante, Andante   \n",
       "2   ABBA         As Good As New   \n",
       "3   ABBA                   Bang   \n",
       "4   ABBA       Bang-A-Boomerang   \n",
       "\n",
       "                                                text  \n",
       "0  Look at her face, it's a wonderful face  \\r\\nA...  \n",
       "1  Take it easy with me, please  \\r\\nTouch me gen...  \n",
       "2  I'll never know why I had to go  \\r\\nWhy I had...  \n",
       "3  Making somebody happy is a question of give an...  \n",
       "4  Making somebody happy is a question of give an...  "
      ]
     },
     "execution_count": 4,
     "metadata": {},
     "output_type": "execute_result"
    }
   ],
   "source": [
    "df.head()"
   ]
  },
  {
   "cell_type": "code",
   "execution_count": 6,
   "metadata": {},
   "outputs": [
    {
     "name": "stdout",
     "output_type": "stream",
     "text": [
      "<class 'pandas.core.frame.DataFrame'>\n",
      "RangeIndex: 57650 entries, 0 to 57649\n",
      "Data columns (total 3 columns):\n",
      " #   Column  Non-Null Count  Dtype \n",
      "---  ------  --------------  ----- \n",
      " 0   artist  57650 non-null  object\n",
      " 1   song    57650 non-null  object\n",
      " 2   text    57650 non-null  object\n",
      "dtypes: object(3)\n",
      "memory usage: 1.3+ MB\n"
     ]
    }
   ],
   "source": [
    "df.info()"
   ]
  },
  {
   "cell_type": "code",
   "execution_count": 8,
   "metadata": {},
   "outputs": [
    {
     "data": {
      "text/plain": [
       "artist    0\n",
       "song      0\n",
       "text      0\n",
       "dtype: int64"
      ]
     },
     "execution_count": 8,
     "metadata": {},
     "output_type": "execute_result"
    }
   ],
   "source": [
    "df.isnull().sum()"
   ]
  },
  {
   "cell_type": "code",
   "execution_count": 10,
   "metadata": {},
   "outputs": [
    {
     "data": {
      "text/plain": [
       "\"I can hear how you work, practising hard  \\r\\nPlaying night and day, wo-oh  \\r\\nAnd it sounds better now, yes you improve  \\r\\nEverytime you play, wo-oh  \\r\\nBut it's bad  \\r\\nYou're so sad  \\r\\nAnd you're only smiling  \\r\\nWhen you play your violin  \\r\\n  \\r\\nDumb dumb diddle, to be your fiddle  \\r\\nTo be so near you and not just hear you  \\r\\nDumb dumb diddle, to be your fiddle  \\r\\nI think then maybe you'd see me, baby  \\r\\nYou'd be mine  \\r\\nAnd we'd be together all the time  \\r\\nWish I was dumb dumb diddle, your darling fiddle  \\r\\n  \\r\\nBut I think, you don't know that I exist  \\r\\nI'm the quiet kind, wo-oh  \\r\\nFrom the day when I first listened to you  \\r\\nYou've been on my mind, wo-oh  \\r\\nYou don't care  \\r\\nIt's not fair  \\r\\nAnd you're only smiling  \\r\\nWhen you play your violin  \\r\\n  \\r\\nDumb dumb diddle, to be your fiddle  \\r\\nTo be so near you and not just hear you  \\r\\nDumb dumb diddle, to be your fiddle  \\r\\nI think then maybe you'd see me, baby  \\r\\nYou'd be mine  \\r\\nAnd we'd be together all the time  \\r\\n  \\r\\nDumb dumb diddle, to be your fiddle  \\r\\nTo be so near you and not just hear you  \\r\\nDumb dumb diddle, to be your fiddle  \\r\\nI think then maybe you'd see me, baby  \\r\\nYou'd be mine  \\r\\nAnd we'd be together all the time  \\r\\nWish I was dumb dumb diddle, your darling find\\r\\n\\r\\n\""
      ]
     },
     "execution_count": 10,
     "metadata": {},
     "output_type": "execute_result"
    }
   ],
   "source": [
    "sample=df[\"text\"][15]\n",
    "sample"
   ]
  },
  {
   "cell_type": "code",
   "execution_count": 11,
   "metadata": {},
   "outputs": [],
   "source": [
    "df['text'] = df['text'].str.lower()"
   ]
  },
  {
   "cell_type": "code",
   "execution_count": 12,
   "metadata": {},
   "outputs": [
    {
     "data": {
      "text/plain": [
       "\"i can hear how you work, practising hard  \\r\\nplaying night and day, wo-oh  \\r\\nand it sounds better now, yes you improve  \\r\\neverytime you play, wo-oh  \\r\\nbut it's bad  \\r\\nyou're so sad  \\r\\nand you're only smiling  \\r\\nwhen you play your violin  \\r\\n  \\r\\ndumb dumb diddle, to be your fiddle  \\r\\nto be so near you and not just hear you  \\r\\ndumb dumb diddle, to be your fiddle  \\r\\ni think then maybe you'd see me, baby  \\r\\nyou'd be mine  \\r\\nand we'd be together all the time  \\r\\nwish i was dumb dumb diddle, your darling fiddle  \\r\\n  \\r\\nbut i think, you don't know that i exist  \\r\\ni'm the quiet kind, wo-oh  \\r\\nfrom the day when i first listened to you  \\r\\nyou've been on my mind, wo-oh  \\r\\nyou don't care  \\r\\nit's not fair  \\r\\nand you're only smiling  \\r\\nwhen you play your violin  \\r\\n  \\r\\ndumb dumb diddle, to be your fiddle  \\r\\nto be so near you and not just hear you  \\r\\ndumb dumb diddle, to be your fiddle  \\r\\ni think then maybe you'd see me, baby  \\r\\nyou'd be mine  \\r\\nand we'd be together all the time  \\r\\n  \\r\\ndumb dumb diddle, to be your fiddle  \\r\\nto be so near you and not just hear you  \\r\\ndumb dumb diddle, to be your fiddle  \\r\\ni think then maybe you'd see me, baby  \\r\\nyou'd be mine  \\r\\nand we'd be together all the time  \\r\\nwish i was dumb dumb diddle, your darling find\\r\\n\\r\\n\""
      ]
     },
     "execution_count": 12,
     "metadata": {},
     "output_type": "execute_result"
    }
   ],
   "source": [
    "sample=df[\"text\"][15]\n",
    "sample"
   ]
  },
  {
   "cell_type": "code",
   "execution_count": 13,
   "metadata": {},
   "outputs": [],
   "source": [
    "import re\n",
    "indent=[\"\\n\",\"\\r\",\"\\t\",]\n",
    "\n",
    "def remove_indents(text, indent):\n",
    "    for elements in indent:\n",
    "        text = text.replace(elements, '')\n",
    "    return text\n",
    "\n",
    "df['text'] = df['text'].apply(lambda elements: remove_indents(elements, indent))"
   ]
  },
  {
   "cell_type": "code",
   "execution_count": 14,
   "metadata": {},
   "outputs": [
    {
     "data": {
      "text/plain": [
       "\"i can hear how you work, practising hard  playing night and day, wo-oh  and it sounds better now, yes you improve  everytime you play, wo-oh  but it's bad  you're so sad  and you're only smiling  when you play your violin    dumb dumb diddle, to be your fiddle  to be so near you and not just hear you  dumb dumb diddle, to be your fiddle  i think then maybe you'd see me, baby  you'd be mine  and we'd be together all the time  wish i was dumb dumb diddle, your darling fiddle    but i think, you don't know that i exist  i'm the quiet kind, wo-oh  from the day when i first listened to you  you've been on my mind, wo-oh  you don't care  it's not fair  and you're only smiling  when you play your violin    dumb dumb diddle, to be your fiddle  to be so near you and not just hear you  dumb dumb diddle, to be your fiddle  i think then maybe you'd see me, baby  you'd be mine  and we'd be together all the time    dumb dumb diddle, to be your fiddle  to be so near you and not just hear you  dumb dumb diddle, to be your fiddle  i think then maybe you'd see me, baby  you'd be mine  and we'd be together all the time  wish i was dumb dumb diddle, your darling find\""
      ]
     },
     "execution_count": 14,
     "metadata": {},
     "output_type": "execute_result"
    }
   ],
   "source": [
    "sample=df[\"text\"][15]\n",
    "sample"
   ]
  },
  {
   "cell_type": "code",
   "execution_count": 18,
   "metadata": {},
   "outputs": [
    {
     "name": "stderr",
     "output_type": "stream",
     "text": [
      "[nltk_data] Downloading package stopwords to C:\\Users\\Biswaji\n",
      "[nltk_data]     Deb\\AppData\\Roaming\\nltk_data...\n",
      "[nltk_data]   Unzipping corpora\\stopwords.zip.\n"
     ]
    }
   ],
   "source": [
    "import nltk\n",
    "nltk.download('stopwords')\n",
    "from nltk.tokenize import word_tokenize\n",
    "from nltk.corpus import stopwords\n",
    "\n",
    "stop_words = set(stopwords.words('english'))"
   ]
  },
  {
   "cell_type": "code",
   "execution_count": 20,
   "metadata": {},
   "outputs": [],
   "source": [
    "import string\n",
    "df_tokenized=df\n",
    "df_tokenized['text'] = df_tokenized['text'].apply(lambda x: ' '.join([word for word in word_tokenize(x) if word not in stop_words and word not in string.punctuation]))"
   ]
  },
  {
   "cell_type": "code",
   "execution_count": 21,
   "metadata": {},
   "outputs": [
    {
     "data": {
      "text/plain": [
       "\"hear work practising hard playing night day wo-oh sounds better yes improve everytime play wo-oh 's bad 're sad 're smiling play violin dumb dumb diddle fiddle near hear dumb dumb diddle fiddle think maybe 'd see baby 'd mine 'd together time wish dumb dumb diddle darling fiddle think n't know exist 'm quiet kind wo-oh day first listened 've mind wo-oh n't care 's fair 're smiling play violin dumb dumb diddle fiddle near hear dumb dumb diddle fiddle think maybe 'd see baby 'd mine 'd together time dumb dumb diddle fiddle near hear dumb dumb diddle fiddle think maybe 'd see baby 'd mine 'd together time wish dumb dumb diddle darling find\""
      ]
     },
     "execution_count": 21,
     "metadata": {},
     "output_type": "execute_result"
    }
   ],
   "source": [
    "sample=df_tokenized[\"text\"][15]\n",
    "sample"
   ]
  },
  {
   "cell_type": "code",
   "execution_count": 23,
   "metadata": {},
   "outputs": [
    {
     "data": {
      "text/plain": [
       "<nltk.tokenize.punkt.PunktSentenceTokenizer at 0x251360c7010>"
      ]
     },
     "execution_count": 23,
     "metadata": {},
     "output_type": "execute_result"
    }
   ],
   "source": [
    "\n",
    "\n",
    "text_temp='''Blah blah, blah. Hi nigga fuck you\n",
    "what is up with you nigga.\n",
    "fuck off\n",
    "'''\n",
    "result = PunktSentenceTokenizer(text_temp)\n",
    "#sentence=sent_tokenize(text_temp, language='english')\n",
    "#sentence\n",
    "#word_tokenize(df[\"text\"][0])\n",
    "result"
   ]
  },
  {
   "cell_type": "code",
   "execution_count": 24,
   "metadata": {},
   "outputs": [
    {
     "data": {
      "text/plain": [
       "<nltk.tokenize.punkt.PunktSentenceTokenizer at 0x251360c7010>"
      ]
     },
     "execution_count": 24,
     "metadata": {},
     "output_type": "execute_result"
    }
   ],
   "source": [
    "result"
   ]
  },
  {
   "cell_type": "code",
   "execution_count": null,
   "metadata": {},
   "outputs": [],
   "source": []
  }
 ],
 "metadata": {
  "kernelspec": {
   "display_name": "Python 3",
   "language": "python",
   "name": "python3"
  },
  "language_info": {
   "codemirror_mode": {
    "name": "ipython",
    "version": 3
   },
   "file_extension": ".py",
   "mimetype": "text/x-python",
   "name": "python",
   "nbconvert_exporter": "python",
   "pygments_lexer": "ipython3",
   "version": "3.11.7"
  }
 },
 "nbformat": 4,
 "nbformat_minor": 2
}
